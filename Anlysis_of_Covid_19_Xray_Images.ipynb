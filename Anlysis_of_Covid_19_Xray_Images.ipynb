{
  "nbformat": 4,
  "nbformat_minor": 0,
  "metadata": {
    "colab": {
      "name": "Anlysis of Covid-19- Xray Images.ipynb",
      "provenance": [],
      "collapsed_sections": [],
      "include_colab_link": true
    },
    "kernelspec": {
      "display_name": "Python 3",
      "language": "python",
      "name": "python3"
    },
    "language_info": {
      "codemirror_mode": {
        "name": "ipython",
        "version": 3
      },
      "file_extension": ".py",
      "mimetype": "text/x-python",
      "name": "python",
      "nbconvert_exporter": "python",
      "pygments_lexer": "ipython3",
      "version": "3.7.1"
    }
  },
  "cells": [
    {
      "cell_type": "markdown",
      "metadata": {
        "id": "view-in-github",
        "colab_type": "text"
      },
      "source": [
        "<a href=\"https://colab.research.google.com/github/neerja198/covid-19-X-Ray-Image-Preprocessing/blob/master/Anlysis_of_Covid_19_Xray_Images.ipynb\" target=\"_parent\"><img src=\"https://colab.research.google.com/assets/colab-badge.svg\" alt=\"Open In Colab\"/></a>"
      ]
    },
    {
      "cell_type": "markdown",
      "metadata": {
        "colab_type": "text",
        "id": "4IDb1FPYjOmx"
      },
      "source": [
        "The goal of this assignment is to see if we can build a classifier which can predict the chance of a person having COVID19, given their xray.\n",
        "\n",
        "The dataset for this assignment has been taken from kaggle for healthy pateints and https://github.com/ieee8023/covid-chestxray-dataset for COVID patients. The positive cases are of patients diagonised with COVID, and negative casses are people detected with other forms of infection and not covid and there few sample of healthy patients as well"
      ]
    },
    {
      "cell_type": "code",
      "metadata": {
        "id": "Rr7vpWh0dx8C",
        "colab_type": "code",
        "outputId": "7b15b072-44f8-4d58-bd2f-0a45a4d48201",
        "colab": {
          "base_uri": "https://localhost:8080/",
          "height": 122
        }
      },
      "source": [
        "from google.colab import drive\n",
        "drive.mount('/content/drive')"
      ],
      "execution_count": 0,
      "outputs": [
        {
          "output_type": "stream",
          "text": [
            "Go to this URL in a browser: https://accounts.google.com/o/oauth2/auth?client_id=947318989803-6bn6qk8qdgf4n4g3pfee6491hc0brc4i.apps.googleusercontent.com&redirect_uri=urn%3aietf%3awg%3aoauth%3a2.0%3aoob&response_type=code&scope=email%20https%3a%2f%2fwww.googleapis.com%2fauth%2fdocs.test%20https%3a%2f%2fwww.googleapis.com%2fauth%2fdrive%20https%3a%2f%2fwww.googleapis.com%2fauth%2fdrive.photos.readonly%20https%3a%2f%2fwww.googleapis.com%2fauth%2fpeopleapi.readonly\n",
            "\n",
            "Enter your authorization code:\n",
            "··········\n",
            "Mounted at /content/drive\n"
          ],
          "name": "stdout"
        }
      ]
    },
    {
      "cell_type": "code",
      "metadata": {
        "colab_type": "code",
        "id": "tvhoKV-WKLmz",
        "colab": {}
      },
      "source": [
        "# from google.colab import drive\n",
        "# drive.mount('/content/drive')"
      ],
      "execution_count": 0,
      "outputs": []
    },
    {
      "cell_type": "code",
      "metadata": {
        "colab_type": "code",
        "id": "SeFqBdZZjt_B",
        "colab": {}
      },
      "source": [
        "# !unzip keras-covid-19.zip"
      ],
      "execution_count": 0,
      "outputs": []
    },
    {
      "cell_type": "code",
      "metadata": {
        "colab_type": "code",
        "id": "yqt4B-UQl1UY",
        "colab": {}
      },
      "source": [
        "from tensorflow.keras.preprocessing.image import ImageDataGenerator\n",
        "from tensorflow.keras.optimizers import Adam\n",
        "from tensorflow.keras.models import Sequential\n",
        "from tensorflow.keras.layers import Dense, Dropout, Flatten, Convolution2D, MaxPooling2D\n",
        "\n",
        "from sklearn.metrics import classification_report, roc_curve, roc_auc_score\n",
        "from sklearn.model_selection import train_test_split\n",
        "from sklearn.preprocessing import LabelEncoder, OneHotEncoder\n",
        "\n",
        "from imutils import paths\n",
        "import matplotlib.pyplot as plt\n",
        "from matplotlib import pyplot\n",
        "import numpy as np\n",
        "import argparse\n",
        "import cv2\n",
        "import os\n",
        "import random"
      ],
      "execution_count": 0,
      "outputs": []
    },
    {
      "cell_type": "code",
      "metadata": {
        "colab_type": "code",
        "id": "bI77TsT_mABr",
        "outputId": "dd5f76e2-5dfa-4c13-ed5c-96a6ff6bc675",
        "colab": {
          "base_uri": "https://localhost:8080/",
          "height": 34
        }
      },
      "source": [
        "INIT_LR = 1e-3    \n",
        "EPOCHS = 25\n",
        "\n",
        "# grab the list of images in our dataset directory, then initialize\n",
        "# the list of data (i.e., images) and class images\n",
        "print(\"[INFO] loading images...\")\n",
        "imagePaths = list(paths.list_images(\"/content/drive/My Drive/Tina/dataset\"))\n",
        "data = []\n",
        "labels = []"
      ],
      "execution_count": 0,
      "outputs": [
        {
          "output_type": "stream",
          "text": [
            "[INFO] loading images...\n"
          ],
          "name": "stdout"
        }
      ]
    },
    {
      "cell_type": "code",
      "metadata": {
        "colab_type": "code",
        "id": "_nEQWxqmmHbT",
        "outputId": "9be82f2e-50d0-4d8d-b738-793edff69f6c",
        "colab": {
          "base_uri": "https://localhost:8080/",
          "height": 867
        }
      },
      "source": [
        "random.shuffle(imagePaths)\n",
        "imagePaths  ## this should have the path to all the images"
      ],
      "execution_count": 0,
      "outputs": [
        {
          "output_type": "execute_result",
          "data": {
            "text/plain": [
              "['/content/drive/My Drive/Tina/dataset/normal/person934_virus_1595.jpeg',\n",
              " '/content/drive/My Drive/Tina/dataset/covid/ryct.2020200034.fig5-day0.jpeg',\n",
              " '/content/drive/My Drive/Tina/dataset/normal/NORMAL2-IM-0696-0001.jpeg',\n",
              " '/content/drive/My Drive/Tina/dataset/covid/ryct.2020200034.fig2.jpeg',\n",
              " '/content/drive/My Drive/Tina/dataset/normal/IM-0240-0001.jpeg',\n",
              " '/content/drive/My Drive/Tina/dataset/normal/person612_bacteria_2478.jpeg',\n",
              " '/content/drive/My Drive/Tina/dataset/covid/nCoV-radiol.2020200269.fig1-day7.jpeg',\n",
              " '/content/drive/My Drive/Tina/dataset/normal/person939_bacteria_2864.jpeg',\n",
              " '/content/drive/My Drive/Tina/dataset/covid/lancet-case2b.jpg',\n",
              " '/content/drive/My Drive/Tina/dataset/normal/person1558_bacteria_4066.jpeg',\n",
              " '/content/drive/My Drive/Tina/dataset/normal/person989_virus_1667.jpeg',\n",
              " '/content/drive/My Drive/Tina/dataset/covid/radiopedia-covid-19-pneumonia-2.jpg',\n",
              " '/content/drive/My Drive/Tina/dataset/normal/NORMAL2-IM-0869-0001.jpeg',\n",
              " '/content/drive/My Drive/Tina/dataset/normal/person925_virus_1582.jpeg',\n",
              " '/content/drive/My Drive/Tina/dataset/normal/person525_bacteria_2216.jpeg',\n",
              " '/content/drive/My Drive/Tina/dataset/normal/IM-0466-0001.jpeg',\n",
              " '/content/drive/My Drive/Tina/dataset/covid/auntminnie-d-2020_01_28_23_51_6665_2020_01_28_Vietnam_coronavirus.jpeg',\n",
              " '/content/drive/My Drive/Tina/dataset/covid/auntminnie-a-2020_01_28_23_51_6665_2020_01_28_Vietnam_coronavirus.jpeg',\n",
              " '/content/drive/My Drive/Tina/dataset/normal/NORMAL2-IM-1179-0001.jpeg',\n",
              " '/content/drive/My Drive/Tina/dataset/normal/person1102_bacteria_3043.jpeg',\n",
              " '/content/drive/My Drive/Tina/dataset/normal/person651_bacteria_2543.jpeg',\n",
              " '/content/drive/My Drive/Tina/dataset/normal/person1935_bacteria_4849.jpeg',\n",
              " '/content/drive/My Drive/Tina/dataset/covid/radiol.2020200490.fig3.jpeg',\n",
              " '/content/drive/My Drive/Tina/dataset/covid/1-s2.0-S0929664620300449-gr2_lrg-d.jpg',\n",
              " '/content/drive/My Drive/Tina/dataset/covid/1-s2.0-S0140673620303706-fx1_lrg.jpg',\n",
              " '/content/drive/My Drive/Tina/dataset/covid/auntminnie-c-2020_01_28_23_51_6665_2020_01_28_Vietnam_coronavirus.jpeg',\n",
              " '/content/drive/My Drive/Tina/dataset/normal/person378_virus_761.jpeg',\n",
              " '/content/drive/My Drive/Tina/dataset/covid/ryct.2020200034.fig5-day7.jpeg',\n",
              " '/content/drive/My Drive/Tina/dataset/normal/person438_bacteria_1893.jpeg',\n",
              " '/content/drive/My Drive/Tina/dataset/normal/person339_bacteria_1574.jpeg',\n",
              " '/content/drive/My Drive/Tina/dataset/normal/person1830_bacteria_4693.jpeg',\n",
              " '/content/drive/My Drive/Tina/dataset/normal/person1599_virus_2776.jpeg',\n",
              " '/content/drive/My Drive/Tina/dataset/covid/1-s2.0-S0929664620300449-gr2_lrg-b.jpg',\n",
              " '/content/drive/My Drive/Tina/dataset/covid/nejmc2001573_f1b.jpeg',\n",
              " '/content/drive/My Drive/Tina/dataset/covid/nejmoa2001191_f5-PA.jpeg',\n",
              " '/content/drive/My Drive/Tina/dataset/covid/nejmc2001573_f1a.jpeg',\n",
              " '/content/drive/My Drive/Tina/dataset/normal/person259_bacteria_1220.jpeg',\n",
              " '/content/drive/My Drive/Tina/dataset/covid/nejmoa2001191_f4.jpeg',\n",
              " '/content/drive/My Drive/Tina/dataset/covid/ryct.2020200028.fig1a.jpeg',\n",
              " '/content/drive/My Drive/Tina/dataset/normal/person1_bacteria_2.jpeg',\n",
              " '/content/drive/My Drive/Tina/dataset/normal/person1290_virus_2215.jpeg',\n",
              " '/content/drive/My Drive/Tina/dataset/normal/NORMAL2-IM-0315-0001.jpeg',\n",
              " '/content/drive/My Drive/Tina/dataset/covid/auntminnie-b-2020_01_28_23_51_6665_2020_01_28_Vietnam_coronavirus.jpeg',\n",
              " '/content/drive/My Drive/Tina/dataset/covid/1-s2.0-S0929664620300449-gr2_lrg-c.jpg',\n",
              " '/content/drive/My Drive/Tina/dataset/covid/nejmoa2001191_f1-PA.jpeg',\n",
              " '/content/drive/My Drive/Tina/dataset/covid/nejmoa2001191_f3-PA.jpeg',\n",
              " '/content/drive/My Drive/Tina/dataset/covid/1-s2.0-S0929664620300449-gr2_lrg-a.jpg',\n",
              " '/content/drive/My Drive/Tina/dataset/covid/lancet-case2a.jpg',\n",
              " '/content/drive/My Drive/Tina/dataset/normal/IM-0033-0001-0001.jpeg',\n",
              " '/content/drive/My Drive/Tina/dataset/covid/ryct.2020200034.fig5-day4.jpeg']"
            ]
          },
          "metadata": {
            "tags": []
          },
          "execution_count": 21
        }
      ]
    },
    {
      "cell_type": "markdown",
      "metadata": {
        "id": "lpHAgk-am18y",
        "colab_type": "text"
      },
      "source": [
        "**When the image file is read with the OpenCV function imread(), the order of colors is BGR (blue, green, red). On the other hand, in Pillow, the order of colors is assumed to be RGB (red, green, blue).Therefore, if you want to use both the Pillow function and the OpenCV function, you need to convert BGR and RGB.**\n",
        "\n",
        "**Convolutional Neural Networks as accepting fixed size inputs (i.e., 224×224, 227×227, 299×299, etc.).**"
      ]
    },
    {
      "cell_type": "code",
      "metadata": {
        "colab_type": "code",
        "id": "j0Fwc-YUmOcB",
        "colab": {}
      },
      "source": [
        "# loop over the image paths\n",
        "for imagePath in imagePaths:\n",
        "    # extract the class label from the filename\n",
        "    label = imagePath.split(os.path.sep)[-2]\n",
        "\n",
        "    # load the image, swap color channels, and resize it to be a fixed\n",
        "    # 224x224 pixels while ignoring aspect ratio\n",
        "    image = cv2.imread(imagePath) ## all the images are stored as a numpy array\n",
        "    image = cv2.cvtColor(image, cv2.COLOR_BGR2RGB)  \n",
        "    image = cv2.resize(image, (224, 224))\n",
        "\n",
        "    # update the data and labels lists, respectively\n",
        "    data.append(image)\n",
        "    labels.append(label)\n",
        "    #labels.append(mapping[label])"
      ],
      "execution_count": 0,
      "outputs": []
    },
    {
      "cell_type": "code",
      "metadata": {
        "colab_type": "code",
        "id": "mm0Ro5WwmWqw",
        "outputId": "423773ba-d3a5-4180-e78a-bc9eeb5eb700",
        "colab": {
          "base_uri": "https://localhost:8080/",
          "height": 34
        }
      },
      "source": [
        "### getting the shape of the images\n",
        "image.shape"
      ],
      "execution_count": 0,
      "outputs": [
        {
          "output_type": "execute_result",
          "data": {
            "text/plain": [
              "(224, 224, 3)"
            ]
          },
          "metadata": {
            "tags": []
          },
          "execution_count": 23
        }
      ]
    },
    {
      "cell_type": "code",
      "metadata": {
        "colab_type": "code",
        "id": "3pUCVAyOmX1p",
        "colab": {}
      },
      "source": [
        "# convert the data and labels to NumPy arrays while scaling the pixel\n",
        "# intensities to the range [0, 255]\n",
        "data = np.array(data) / 255.0\n",
        "labels = np.array(labels)"
      ],
      "execution_count": 0,
      "outputs": []
    },
    {
      "cell_type": "code",
      "metadata": {
        "colab_type": "code",
        "id": "ZNSRbMDGyI1T",
        "outputId": "c8344efc-52eb-4d89-cbd5-bb6dcdcbdff6",
        "colab": {
          "base_uri": "https://localhost:8080/",
          "height": 34
        }
      },
      "source": [
        "len(labels) == len(data)"
      ],
      "execution_count": 0,
      "outputs": [
        {
          "output_type": "execute_result",
          "data": {
            "text/plain": [
              "True"
            ]
          },
          "metadata": {
            "tags": []
          },
          "execution_count": 25
        }
      ]
    },
    {
      "cell_type": "markdown",
      "metadata": {
        "colab_type": "text",
        "id": "eImpNYjemvqC"
      },
      "source": [
        "##Q1 perform one hot encoding of the labels and make sure its called labels\n",
        "\n",
        "For binary class we sometimes don't need to do one hot encoding since we can assign one as 0 and the other as 1. However in this case we are going to calculate the probability for both outcomes. "
      ]
    },
    {
      "cell_type": "code",
      "metadata": {
        "colab_type": "code",
        "id": "rMIMNqWvmqAu",
        "colab": {}
      },
      "source": [
        "# perform one-hot encoding on the labels \n",
        "# hint there should be now two columns in Y\n",
        "\n",
        "# integer encode\n",
        "label_encoder = LabelEncoder()\n",
        "integer_encoded = label_encoder.fit_transform(labels)\n",
        "\n",
        "# binary encode\n",
        "onehot_encoder = OneHotEncoder(sparse=False)\n",
        "integer_encoded = integer_encoded.reshape(len(integer_encoded), 1)\n",
        "Y = onehot_encoder.fit_transform(integer_encoded)"
      ],
      "execution_count": 0,
      "outputs": []
    },
    {
      "cell_type": "code",
      "metadata": {
        "id": "SvQb7dyCdtER",
        "colab_type": "code",
        "outputId": "dbf6bb35-4c52-40c6-bec8-a702f2d80b67",
        "colab": {}
      },
      "source": [
        "Y"
      ],
      "execution_count": 0,
      "outputs": [
        {
          "output_type": "execute_result",
          "data": {
            "text/plain": [
              "array([[0., 1.],\n",
              "       [1., 0.],\n",
              "       [1., 0.],\n",
              "       [0., 1.],\n",
              "       [0., 1.],\n",
              "       [0., 1.],\n",
              "       [1., 0.],\n",
              "       [0., 1.],\n",
              "       [0., 1.],\n",
              "       [0., 1.],\n",
              "       [1., 0.],\n",
              "       [1., 0.],\n",
              "       [0., 1.],\n",
              "       [1., 0.],\n",
              "       [1., 0.],\n",
              "       [0., 1.],\n",
              "       [0., 1.],\n",
              "       [1., 0.],\n",
              "       [1., 0.],\n",
              "       [0., 1.],\n",
              "       [1., 0.],\n",
              "       [0., 1.],\n",
              "       [1., 0.],\n",
              "       [1., 0.],\n",
              "       [1., 0.],\n",
              "       [1., 0.],\n",
              "       [0., 1.],\n",
              "       [1., 0.],\n",
              "       [0., 1.],\n",
              "       [0., 1.],\n",
              "       [0., 1.],\n",
              "       [1., 0.],\n",
              "       [1., 0.],\n",
              "       [1., 0.],\n",
              "       [0., 1.],\n",
              "       [1., 0.],\n",
              "       [0., 1.],\n",
              "       [0., 1.],\n",
              "       [0., 1.],\n",
              "       [0., 1.],\n",
              "       [0., 1.],\n",
              "       [0., 1.],\n",
              "       [1., 0.],\n",
              "       [1., 0.],\n",
              "       [0., 1.],\n",
              "       [1., 0.],\n",
              "       [1., 0.],\n",
              "       [1., 0.],\n",
              "       [1., 0.],\n",
              "       [0., 1.]])"
            ]
          },
          "metadata": {
            "tags": []
          },
          "execution_count": 11
        }
      ]
    },
    {
      "cell_type": "markdown",
      "metadata": {
        "colab_type": "text",
        "id": "htoRaw7Tm_zu"
      },
      "source": [
        "Q2\n",
        "**partition the data into training and testing splits using 80% of\n",
        "the data for training and the remaining 20% for testing\n",
        "make sure the output of the split is called as trainX,testX,trainY,testY**"
      ]
    },
    {
      "cell_type": "code",
      "metadata": {
        "colab_type": "code",
        "id": "tLJQAetCm1eD",
        "colab": {}
      },
      "source": [
        "X = data\n",
        "y = Y\n",
        "\n",
        "trainX, testX, trainY, testY = train_test_split(X, y, test_size=0.2)"
      ],
      "execution_count": 0,
      "outputs": []
    },
    {
      "cell_type": "markdown",
      "metadata": {
        "colab_type": "text",
        "id": "wng9BUpJnP6O"
      },
      "source": [
        "The below part does image augmentation as discussed during the lecture in class, over here we are rotating the image by upto 15 degrees, but you are open to try other augmentation techniques as well"
      ]
    },
    {
      "cell_type": "code",
      "metadata": {
        "colab_type": "code",
        "id": "d14_xHpknX1J",
        "colab": {}
      },
      "source": [
        "# initialize the training data augmentation object\n",
        "trainAug = ImageDataGenerator(\n",
        "    rotation_range=15,\n",
        "    fill_mode=\"nearest\")"
      ],
      "execution_count": 0,
      "outputs": []
    },
    {
      "cell_type": "markdown",
      "metadata": {
        "colab_type": "text",
        "id": "QJHu17ETneob"
      },
      "source": [
        "Q3 create a model architecture below, make sure the input takes in images of `224*224*3` and the output is 2, given that we have 2 labels to predict"
      ]
    },
    {
      "cell_type": "code",
      "metadata": {
        "colab_type": "code",
        "id": "HT6pVSeHnYn4",
        "colab": {}
      },
      "source": [
        "#'''This part needs to be done as part of HW'''\n",
        "\n",
        "def make_model():\n",
        "    model = Sequential()\n",
        "    model.add(Convolution2D(32, (3, 3), activation='relu', input_shape=(224,224,3)))\n",
        "    model.add(MaxPooling2D(pool_size=(2,2)))\n",
        "    model.add(Dropout(0.25))\n",
        "    model.add(Flatten())\n",
        "    model.add(Dense(128, activation='relu'))\n",
        "    model.add(Dropout(0.5))\n",
        "    model.add(Dense(2, activation='softmax'))\n",
        "    return model"
      ],
      "execution_count": 0,
      "outputs": []
    },
    {
      "cell_type": "code",
      "metadata": {
        "colab_type": "code",
        "id": "dTliNehTn8cz",
        "colab": {}
      },
      "source": [
        "model = make_model()"
      ],
      "execution_count": 0,
      "outputs": []
    },
    {
      "cell_type": "code",
      "metadata": {
        "colab_type": "code",
        "id": "Fg_GObS9ohBi",
        "outputId": "95cbe6f8-4506-427f-91f1-7b7b6c7f57af",
        "colab": {
          "base_uri": "https://localhost:8080/",
          "height": 34
        }
      },
      "source": [
        "### defining the loss, and compiling the model\n",
        "# compile our model\n",
        "print(\"[INFO] compiling model...\")\n",
        "opt = Adam(lr=INIT_LR, decay=INIT_LR / EPOCHS)\n",
        "model.compile(loss=\"categorical_crossentropy\", optimizer=opt, metrics=[\"accuracy\"])"
      ],
      "execution_count": 0,
      "outputs": [
        {
          "output_type": "stream",
          "text": [
            "[INFO] compiling model...\n"
          ],
          "name": "stdout"
        }
      ]
    },
    {
      "cell_type": "markdown",
      "metadata": {
        "colab_type": "text",
        "id": "Swn2vKHqooGb"
      },
      "source": [
        "## Q4)Fit our model on train data\n",
        "\n",
        "\n"
      ]
    },
    {
      "cell_type": "code",
      "metadata": {
        "colab_type": "code",
        "id": "ZO0Fuh4vo28C",
        "outputId": "b49b798d-0215-48c5-bdee-c85efb1f9c56",
        "colab": {
          "base_uri": "https://localhost:8080/",
          "height": 867
        }
      },
      "source": [
        "# Train the network\n",
        "H = model.fit(trainX, trainY, epochs=EPOCHS, validation_data=(testX, testY), verbose=1)"
      ],
      "execution_count": 0,
      "outputs": [
        {
          "output_type": "stream",
          "text": [
            "Epoch 1/25\n",
            "2/2 [==============================] - 1s 441ms/step - loss: 1.3363 - accuracy: 0.5250 - val_loss: 17.7897 - val_accuracy: 0.7000\n",
            "Epoch 2/25\n",
            "2/2 [==============================] - 1s 352ms/step - loss: 26.6235 - accuracy: 0.4750 - val_loss: 19.4001 - val_accuracy: 0.3000\n",
            "Epoch 3/25\n",
            "2/2 [==============================] - 1s 354ms/step - loss: 13.6523 - accuracy: 0.5000 - val_loss: 8.0552 - val_accuracy: 0.3000\n",
            "Epoch 4/25\n",
            "2/2 [==============================] - 1s 352ms/step - loss: 7.0101 - accuracy: 0.6000 - val_loss: 0.2197 - val_accuracy: 0.8000\n",
            "Epoch 5/25\n",
            "2/2 [==============================] - 1s 350ms/step - loss: 2.7014 - accuracy: 0.8000 - val_loss: 2.0711 - val_accuracy: 0.8000\n",
            "Epoch 6/25\n",
            "2/2 [==============================] - 1s 346ms/step - loss: 2.8283 - accuracy: 0.7000 - val_loss: 1.3929 - val_accuracy: 0.8000\n",
            "Epoch 7/25\n",
            "2/2 [==============================] - 1s 369ms/step - loss: 1.4773 - accuracy: 0.7750 - val_loss: 0.0222 - val_accuracy: 1.0000\n",
            "Epoch 8/25\n",
            "2/2 [==============================] - 1s 340ms/step - loss: 0.8221 - accuracy: 0.8000 - val_loss: 0.5512 - val_accuracy: 0.8000\n",
            "Epoch 9/25\n",
            "2/2 [==============================] - 1s 346ms/step - loss: 0.8969 - accuracy: 0.8000 - val_loss: 0.2065 - val_accuracy: 0.9000\n",
            "Epoch 10/25\n",
            "2/2 [==============================] - 1s 344ms/step - loss: 0.1022 - accuracy: 0.9500 - val_loss: 0.0675 - val_accuracy: 1.0000\n",
            "Epoch 11/25\n",
            "2/2 [==============================] - 1s 359ms/step - loss: 0.1413 - accuracy: 0.9250 - val_loss: 0.0377 - val_accuracy: 1.0000\n",
            "Epoch 12/25\n",
            "2/2 [==============================] - 1s 354ms/step - loss: 0.0424 - accuracy: 1.0000 - val_loss: 0.0331 - val_accuracy: 1.0000\n",
            "Epoch 13/25\n",
            "2/2 [==============================] - 1s 355ms/step - loss: 0.1034 - accuracy: 0.9500 - val_loss: 0.0321 - val_accuracy: 1.0000\n",
            "Epoch 14/25\n",
            "2/2 [==============================] - 1s 341ms/step - loss: 0.0626 - accuracy: 0.9750 - val_loss: 0.0335 - val_accuracy: 1.0000\n",
            "Epoch 15/25\n",
            "2/2 [==============================] - 1s 357ms/step - loss: 0.0373 - accuracy: 1.0000 - val_loss: 0.0325 - val_accuracy: 1.0000\n",
            "Epoch 16/25\n",
            "2/2 [==============================] - 1s 347ms/step - loss: 0.0340 - accuracy: 1.0000 - val_loss: 0.0500 - val_accuracy: 1.0000\n",
            "Epoch 17/25\n",
            "2/2 [==============================] - 1s 337ms/step - loss: 0.0950 - accuracy: 0.9750 - val_loss: 0.0499 - val_accuracy: 1.0000\n",
            "Epoch 18/25\n",
            "2/2 [==============================] - 1s 357ms/step - loss: 0.0846 - accuracy: 0.9750 - val_loss: 0.0328 - val_accuracy: 1.0000\n",
            "Epoch 19/25\n",
            "2/2 [==============================] - 1s 396ms/step - loss: 0.0414 - accuracy: 1.0000 - val_loss: 0.0294 - val_accuracy: 1.0000\n",
            "Epoch 20/25\n",
            "2/2 [==============================] - 1s 335ms/step - loss: 0.0370 - accuracy: 1.0000 - val_loss: 0.0322 - val_accuracy: 1.0000\n",
            "Epoch 21/25\n",
            "2/2 [==============================] - 1s 350ms/step - loss: 0.0559 - accuracy: 1.0000 - val_loss: 0.0238 - val_accuracy: 1.0000\n",
            "Epoch 22/25\n",
            "2/2 [==============================] - 1s 356ms/step - loss: 0.0662 - accuracy: 0.9750 - val_loss: 0.0257 - val_accuracy: 1.0000\n",
            "Epoch 23/25\n",
            "2/2 [==============================] - 1s 357ms/step - loss: 0.0443 - accuracy: 1.0000 - val_loss: 0.0205 - val_accuracy: 1.0000\n",
            "Epoch 24/25\n",
            "2/2 [==============================] - 1s 353ms/step - loss: 0.0457 - accuracy: 1.0000 - val_loss: 0.0168 - val_accuracy: 1.0000\n",
            "Epoch 25/25\n",
            "2/2 [==============================] - 1s 347ms/step - loss: 0.0449 - accuracy: 1.0000 - val_loss: 0.0260 - val_accuracy: 1.0000\n"
          ],
          "name": "stdout"
        }
      ]
    },
    {
      "cell_type": "code",
      "metadata": {
        "id": "AJ7hcGXYdtFC",
        "colab_type": "code",
        "outputId": "fd86bd7d-4efc-43a6-d18c-de2263f0f643",
        "colab": {
          "base_uri": "https://localhost:8080/",
          "height": 34
        }
      },
      "source": [
        "score = model.evaluate(testX, testY, verbose=1)"
      ],
      "execution_count": 0,
      "outputs": [
        {
          "output_type": "stream",
          "text": [
            "1/1 [==============================] - 0s 1ms/step - loss: 0.0260 - accuracy: 1.0000\n"
          ],
          "name": "stdout"
        }
      ]
    },
    {
      "cell_type": "markdown",
      "metadata": {
        "colab_type": "text",
        "id": "aIXC1iXhI2Di"
      },
      "source": [
        ""
      ]
    },
    {
      "cell_type": "markdown",
      "metadata": {
        "colab_type": "text",
        "id": "rGy5sZOipD-7"
      },
      "source": [
        "##Q5) CALCULATE THE ACCURACY ON TRAIN AND TEST SET, AND ALSO SHOW THE CONFUSION MATRIX AND PLOT THE ROC CURVE\n",
        "\n",
        "See [link](https://en.wikipedia.org/wiki/Receiver_operating_characteristic) for some background on what actually is ROC curve. We will review this in class.\n",
        "See [link](https://scikit-learn.org/stable/auto_examples/model_selection/plot_roc.html#) for python example.\n",
        "\n",
        "The main idea behind using AUC/ROC is that, though the model accuracy is very high, the model might not be learning the important examples well, and one way to check the models ability to check for generalization, is by using the AUC ROC curve"
      ]
    },
    {
      "cell_type": "code",
      "metadata": {
        "colab_type": "code",
        "id": "8sq_zweTyI2q",
        "outputId": "22fae107-7150-418a-a4ff-e979980db48d",
        "colab": {
          "base_uri": "https://localhost:8080/",
          "height": 187
        }
      },
      "source": [
        "# for each image in the testing set we need to find the index of the\n",
        "# label with corresponding largest predicted probability\n",
        "\n",
        "# make predictions on the taining set\n",
        "print(\"[INFO] evaluating network...\")\n",
        "train_probs = model.predict(trainX)\n",
        "train_predIdxs = np.argmax(train_probs, axis=1)\n",
        "\n",
        "# show a nicely formatted classification report\n",
        "print(classification_report(trainY.argmax(axis=1), train_predIdxs,target_names=label_encoder.classes_))"
      ],
      "execution_count": 0,
      "outputs": [
        {
          "output_type": "stream",
          "text": [
            "[INFO] evaluating network...\n",
            "              precision    recall  f1-score   support\n",
            "\n",
            "       covid       1.00      1.00      1.00        18\n",
            "      normal       1.00      1.00      1.00        22\n",
            "\n",
            "    accuracy                           1.00        40\n",
            "   macro avg       1.00      1.00      1.00        40\n",
            "weighted avg       1.00      1.00      1.00        40\n",
            "\n"
          ],
          "name": "stdout"
        }
      ]
    },
    {
      "cell_type": "code",
      "metadata": {
        "id": "691FzCZEdtFN",
        "colab_type": "code",
        "outputId": "39f2a3cc-698c-4756-f29f-943c515851bd",
        "colab": {
          "base_uri": "https://localhost:8080/",
          "height": 187
        }
      },
      "source": [
        "# make predictions on the testing set\n",
        "print(\"[INFO] evaluating network...\")\n",
        "predIdxs = model.predict(testX)\n",
        "predIdxs = np.argmax(predIdxs, axis=1)\n",
        "\n",
        "# show a nicely formatted classification report\n",
        "print(classification_report(testY.argmax(axis=1), predIdxs,target_names=label_encoder.classes_))"
      ],
      "execution_count": 0,
      "outputs": [
        {
          "output_type": "stream",
          "text": [
            "[INFO] evaluating network...\n",
            "              precision    recall  f1-score   support\n",
            "\n",
            "       covid       1.00      1.00      1.00         7\n",
            "      normal       1.00      1.00      1.00         3\n",
            "\n",
            "    accuracy                           1.00        10\n",
            "   macro avg       1.00      1.00      1.00        10\n",
            "weighted avg       1.00      1.00      1.00        10\n",
            "\n"
          ],
          "name": "stdout"
        }
      ]
    },
    {
      "cell_type": "code",
      "metadata": {
        "id": "2yLhifDcdtFS",
        "colab_type": "code",
        "outputId": "0888b2a4-5af1-4598-b9b1-2e75d6871a90",
        "colab": {
          "base_uri": "https://localhost:8080/",
          "height": 34
        }
      },
      "source": [
        "fpr, tpr, thresholds = roc_curve(trainY[:,0], train_probs[:, 0])\n",
        "auc = roc_auc_score(trainY, train_probs)\n",
        "print('AUC: %.3f' % auc)"
      ],
      "execution_count": 0,
      "outputs": [
        {
          "output_type": "stream",
          "text": [
            "AUC: 1.000\n"
          ],
          "name": "stdout"
        }
      ]
    },
    {
      "cell_type": "code",
      "metadata": {
        "id": "tWzoLb2udtFW",
        "colab_type": "code",
        "outputId": "18fbf100-6d28-4931-9de1-43e1e96a1cfb",
        "colab": {
          "base_uri": "https://localhost:8080/",
          "height": 279
        }
      },
      "source": [
        "# calculate roc curves\n",
        "lr_fpr, lr_tpr, _ = roc_curve(trainY[:,0], train_probs[:, 0])\n",
        "\n",
        "# plot the roc curve for the model\n",
        "pyplot.plot(lr_fpr, lr_tpr, marker='.', label='CNN')\n",
        "\n",
        "# axis labels\n",
        "pyplot.xlabel('False Positive Rate')\n",
        "pyplot.ylabel('True Positive Rate')\n",
        "\n",
        "# show the legend\n",
        "pyplot.legend()\n",
        "\n",
        "# show the plot\n",
        "pyplot.show()"
      ],
      "execution_count": 0,
      "outputs": [
        {
          "output_type": "display_data",
          "data": {
            "image/png": "[encoded data removed]",
            "text/plain": [
              "<Figure size 432x288 with 1 Axes>"
            ]
          },
          "metadata": {
            "tags": [],
            "needs_background": "light"
          }
        }
      ]
    },
    {
      "cell_type": "markdown",
      "metadata": {
        "colab_type": "text",
        "id": "ppLMiFwzpV2b"
      },
      "source": [
        "## PLOT THE train and test less and the train and test accuracy for every epoch in one single plot\n",
        "\n",
        "Most of the time as we increase the number of epochs the model performs better on train set but, starts to perform worse on validation set. In such cases, we use these plots, to decide which is the most optimal epoch at which the model dosent overfit, and we take the model corresponding to that epoch to test on unseen examples.\n",
        "\n",
        "Tensorflow lets you save your model after every epoch, you can also experiment with saving and loading the trained models (Optional)"
      ]
    },
    {
      "cell_type": "code",
      "metadata": {
        "id": "MUFAn9TTxTmO",
        "colab_type": "code",
        "outputId": "6d2a31fe-11be-454b-fcaf-7bffbdc1b8ed",
        "colab": {
          "base_uri": "https://localhost:8080/",
          "height": 316
        }
      },
      "source": [
        "# plot the training loss and accuracy\n",
        "N = EPOCHS\n",
        "plt.style.use(\"ggplot\")\n",
        "plt.figure()\n",
        "plt.plot(np.arange(0, N), H.history[\"loss\"], label=\"train_loss\")\n",
        "plt.plot(np.arange(0, N), H.history[\"val_loss\"], label=\"val_loss\")\n",
        "plt.plot(np.arange(0, N), H.history[\"accuracy\"], label=\"train_acc\")\n",
        "plt.plot(np.arange(0, N), H.history[\"val_accuracy\"], label=\"val_acc\")\n",
        "plt.title(\"Training Loss and Accuracy on COVID-19 Dataset\")\n",
        "plt.xlabel(\"Epoch #\")\n",
        "plt.ylabel(\"Loss/Accuracy\")\n",
        "plt.legend(loc=\"upper right\")\n"
      ],
      "execution_count": 0,
      "outputs": [
        {
          "output_type": "execute_result",
          "data": {
            "text/plain": [
              "<matplotlib.legend.Legend at 0x7fb22b277f28>"
            ]
          },
          "metadata": {
            "tags": []
          },
          "execution_count": 45
        },
        {
          "output_type": "display_data",
          "data": {
            "image/png": "[encoded data removed]",
            "text/plain": [
              "<Figure size 432x288 with 1 Axes>"
            ]
          },
          "metadata": {
            "tags": []
          }
        }
      ]
    },
    {
      "cell_type": "code",
      "metadata": {
        "colab_type": "code",
        "id": "jDud5poJpTbP",
        "outputId": "db7b063c-2438-42fc-cc04-af9adbd89d62",
        "colab": {
          "base_uri": "https://localhost:8080/",
          "height": 316
        }
      },
      "source": [
        "# Plot the training loss and accuracy\n",
        "plt.style.use(\"ggplot\")\n",
        "plt.figure()\n",
        "plt.plot(np.arange(0, EPOCHS), H.history[\"loss\"], label=\"train_loss\")\n",
        "plt.plot(np.arange(0, EPOCHS), H.history[\"val_loss\"], label=\"val_loss\")\n",
        "plt.title(\"Training Loss and Accuracy\")\n",
        "plt.xlabel(\"Epoch #\")"
      ],
      "execution_count": 0,
      "outputs": [
        {
          "output_type": "execute_result",
          "data": {
            "text/plain": [
              "Text(0.5, 0, 'Epoch #')"
            ]
          },
          "metadata": {
            "tags": []
          },
          "execution_count": 41
        },
        {
          "output_type": "display_data",
          "data": {
            "image/png": "[encoded data removed]",
            "text/plain": [
              "<Figure size 432x288 with 1 Axes>"
            ]
          },
          "metadata": {
            "tags": []
          }
        }
      ]
    },
    {
      "cell_type": "markdown",
      "metadata": {
        "colab_type": "text",
        "id": "UO_jqfKpnxzv"
      },
      "source": [
        "##Q6) Can you think of a case where the model has an accuracy of 99% and still the model would not be considered a good model?, if yes provide an example of such a case, and explain your intuition"
      ]
    },
    {
      "cell_type": "markdown",
      "metadata": {
        "id": "kUK4AoORh6dr",
        "colab_type": "text"
      },
      "source": [
        "Yes, I can think of a case where the model has an accuracy of 99% and it still would not be considered a good model.\n",
        "A situation where the model is overfitting and the model is severely skewed.\n",
        "An example would be a binary classification model where the dataset is 95% of one class and\n",
        "only 5% of another class. A model that is overfit will be highly accurate for the training and \n",
        "will not be able too handle new data.\n",
        "This can be found in regression models that are overfit to training data.  "
      ]
    }
  ]
}